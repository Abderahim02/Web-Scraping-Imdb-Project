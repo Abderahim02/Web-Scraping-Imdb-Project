{
 "cells": [
  {
   "cell_type": "code",
   "execution_count": 141,
   "id": "7c7a8a74-ab3b-4170-bf48-51e5d006d4d5",
   "metadata": {},
   "outputs": [],
   "source": [
    "from requests import get\n",
    "from bs4 import BeautifulSoup\n",
    "from warnings import warn\n",
    "from time import sleep\n",
    "from random import randint\n",
    "import numpy as np, pandas as pd\n",
    "# import seaborn as sns"
   ]
  },
  {
   "cell_type": "code",
   "execution_count": 142,
   "id": "af8c5119-7a8b-4d21-85f5-f0347ca84818",
   "metadata": {},
   "outputs": [
    {
     "data": {
      "text/plain": [
       "'Action, Drama, Mystery'"
      ]
     },
     "execution_count": 142,
     "metadata": {},
     "output_type": "execute_result"
    }
   ],
   "source": [
    "# how to extract the film's genre\n",
    "movie_containers[0].p.find('span', class_= \"genre\").text.replace(\"\\n\", \"\").strip()"
   ]
  },
  {
   "cell_type": "code",
   "execution_count": 143,
   "id": "b7faa2ac-9acf-4b0e-a6fc-582efc3e03c0",
   "metadata": {},
   "outputs": [],
   "source": [
    "# Note this takes about 40 min to run if np.arange is set to 9951 as the stopping point.\n",
    "\n",
    "pages = np.arange(1,20, 1) # Last time I tried, I could only go to 10000 items because after that the URI has no discernable pattern to combat webcrawlers; I just did 4 pages for demonstration purposes. You can increase this for your own projects.\n",
    "pages = [(pages[i] + 50) for i in range (len(pages))]\n",
    "headers = {'Accept-Language': 'en-US,en;q=0.8'} # If this is not specified, the default language is Mandarin\n",
    "\n",
    "#initialize empty lists to store the variables scraped\n",
    "titles = []\n",
    "years = []\n",
    "ratings = []\n",
    "genres = []\n",
    "runtimes = []\n",
    "imdb_ratings = []\n",
    "imdb_ratings_standardized = []\n",
    "metascores = []\n",
    "votes = []\n",
    "directors = []\n",
    "response = get(\"https://www.imdb.com/search/title?genres=sci-fi&\"\n",
    "                  + \"start=\"\n",
    "                  + str(pages[0])\n",
    "                  + \"&explore=title_type,genres&ref_=adv_prv\", headers=headers)\n",
    "response\n",
    "page_html = BeautifulSoup(response.text, 'html.parser')\n",
    "page_html\n",
    "movie_containers = page_html.find_all('div', class_ = 'lister-item mode-advanced')\n",
    "# movie_containers\n",
    "# movie_containers[1].find_all('div', class_ = \"Stars\")"
   ]
  },
  {
   "cell_type": "code",
   "execution_count": 144,
   "id": "bf3ebabd-cbd8-449f-9d34-e7cd74ff8202",
   "metadata": {},
   "outputs": [
    {
     "data": {
      "text/plain": [
       "'Blade Runner 2049'"
      ]
     },
     "execution_count": 144,
     "metadata": {},
     "output_type": "execute_result"
    }
   ],
   "source": [
    "# how to extarct the movie name\n",
    "movie_containers[0].h3.find(\"a\").text"
   ]
  },
  {
   "cell_type": "code",
   "execution_count": 145,
   "id": "6182f697-f0e0-44d4-a0db-5eb0b67b7521",
   "metadata": {},
   "outputs": [
    {
     "data": {
      "text/plain": [
       "'8.0'"
      ]
     },
     "execution_count": 145,
     "metadata": {},
     "output_type": "execute_result"
    }
   ],
   "source": [
    "# the imdb rating\n",
    "movie_containers[0].strong.text"
   ]
  },
  {
   "cell_type": "code",
   "execution_count": 146,
   "id": "294de43d-eaf6-48d1-83c3-766a979d827a",
   "metadata": {},
   "outputs": [
    {
     "data": {
      "text/plain": [
       "'Denis Villeneuve'"
      ]
     },
     "execution_count": 146,
     "metadata": {},
     "output_type": "execute_result"
    }
   ],
   "source": [
    "# the director name\n",
    "# here we use the find method afforded by the bs4 method not find of the string class\n",
    "movie_containers[0].find(\"p\", class_='').find(\"a\").text"
   ]
  },
  {
   "cell_type": "code",
   "execution_count": 147,
   "id": "5fd8e3cc-14fe-4b2d-9e37-d88d4b8abc55",
   "metadata": {},
   "outputs": [
    {
     "data": {
      "text/plain": [
       "[51, 52, 53, 54, 55, 56, 57, 58, 59, 60, 61, 62, 63, 64, 65, 66, 67, 68, 69]"
      ]
     },
     "execution_count": 147,
     "metadata": {},
     "output_type": "execute_result"
    }
   ],
   "source": [
    "star_elemnts = movie_containers[0].find(\"p\", class_ = \"\").find_all(\"a\")\n",
    "names = [s.text for s in star_elemnts]\n",
    "star_names = names[1:]\n",
    "star_names\n",
    "pages"
   ]
  },
  {
   "cell_type": "code",
   "execution_count": 148,
   "id": "30c1c890-44ff-4d17-8b72-c177c66e8b6f",
   "metadata": {},
   "outputs": [],
   "source": [
    "for page in pages:\n",
    "  \n",
    "   #get request for sci-fi\n",
    "   response = get(\"https://www.imdb.com/search/title?genres=sci-fi&\"\n",
    "                  + \"start=\"\n",
    "                  + str(page)\n",
    "                  + \"&explore=title_type,genres&ref_=adv_prv\", headers=headers)\n",
    "  \n",
    "   sleep(randint(8,15))\n",
    "   \n",
    "   #throw warning for status codes that are not 200\n",
    "   if response.status_code != 200:\n",
    "       warn('Request: {}; Status code: {}'.format(requests, response.status_code))\n",
    "\n",
    "   #parse the content of current iteration of request\n",
    "   page_html = BeautifulSoup(response.text, 'html.parser')\n",
    "      \n",
    "   movie_containers = page_html.find_all('div', class_ = 'lister-item mode-advanced')\n",
    "  \n",
    "   #extract the 50 movies for that page\n",
    "   for container in movie_containers:\n",
    "\n",
    "       #conditional for all with metascore, this doesn t consider movies without metascore\n",
    "       if container.find('div', class_ = 'ratings-metascore') is not None:\n",
    "\n",
    "           #title\n",
    "           title = container.h3.find(\"a\").text\n",
    "           titles.append(title)\n",
    "\n",
    "           if container.h3.find('span', class_= 'lister-item-year text-muted unbold') is not None:\n",
    "            \n",
    "             #year released\n",
    "             year = container.h3.find('span', class_= 'lister-item-year text-muted unbold').text # remove the parentheses around the year and make it an integer\n",
    "             years.append(year)\n",
    "\n",
    "           else:\n",
    "             years.append(None) # each of the additional if clauses are to handle type None data, replacing it with an empty string so the arrays are of the same length at the end of the scraping\n",
    "\n",
    "           # if container.p.find('span', class_ = 'certificate') is not None:\n",
    "            \n",
    "           #   #rating\n",
    "           #   rating = container.p.find('span', class_= 'certificate').text\n",
    "           #   ratings.append(rating)\n",
    "\n",
    "           # else:\n",
    "           #   ratings.append(\"\")\n",
    "\n",
    "           if container.p.find('span', class_ = 'genre') is not None:\n",
    "            \n",
    "             #genre\n",
    "             genre = container.p.find('span', class_ = 'genre').text.replace(\"\\n\", \"\").rstrip().split(',') # remove the whitespace character, strip, and split to create an array of genres\n",
    "             genres.append(genre)\n",
    "          \n",
    "           else:\n",
    "             genres.append(\"\")\n",
    "\n",
    "           if container.p.find('span', class_ = 'runtime') is not None:\n",
    "\n",
    "             #runtime\n",
    "             time = int(container.p.find('span', class_ = 'runtime').text.replace(\" min\", \"\")) # remove the minute word from the runtime and make it an integer\n",
    "             runtimes.append(time)\n",
    "\n",
    "           else:\n",
    "             runtimes.append(None)\n",
    "\n",
    "           if float(container.strong.text) is not None:\n",
    "\n",
    "             #IMDB ratings\n",
    "             imdb = float(container.strong.text) # non-standardized variable\n",
    "             imdb_ratings.append(imdb)\n",
    "\n",
    "           else:\n",
    "             imdb_ratings.append(None)\n",
    "\n",
    "           if container.find('span', class_ = 'metascore').text is not None:\n",
    "\n",
    "             #Metascore\n",
    "             m_score = int(container.find('span', class_ = 'metascore').text) # make it an integer\n",
    "             metascores.append(m_score)\n",
    "\n",
    "           else:\n",
    "             metascores.append(None)\n",
    "               # \n",
    "           if container.find(\"p\", class_='').find(\"a\").text is not None:\n",
    "\n",
    "             #Director\n",
    "             d = container.find(\"p\", class_='').find(\"a\").text\n",
    "             directors.append(d)\n",
    "           else:\n",
    "             directors.append(\"Not found\")\n",
    "           if container.find('span', attrs = {'name':'nv'})['data-value'] is not None:\n",
    "\n",
    "             #Number of votes\n",
    "             vote = int(container.find('span', attrs = {'name':'nv'})['data-value'])\n",
    "             votes.append(vote)\n",
    "\n",
    "           else:\n",
    "               votes.append(None)\n",
    "# titles\n",
    "# directors"
   ]
  },
  {
   "cell_type": "code",
   "execution_count": 150,
   "id": "1440206a-9921-4313-82bd-6f89de64f738",
   "metadata": {},
   "outputs": [
    {
     "data": {
      "text/html": [
       "<div>\n",
       "<style scoped>\n",
       "    .dataframe tbody tr th:only-of-type {\n",
       "        vertical-align: middle;\n",
       "    }\n",
       "\n",
       "    .dataframe tbody tr th {\n",
       "        vertical-align: top;\n",
       "    }\n",
       "\n",
       "    .dataframe thead th {\n",
       "        text-align: right;\n",
       "    }\n",
       "</style>\n",
       "<table border=\"1\" class=\"dataframe\">\n",
       "  <thead>\n",
       "    <tr style=\"text-align: right;\">\n",
       "      <th></th>\n",
       "      <th>Title</th>\n",
       "      <th>Director</th>\n",
       "      <th>Runtime</th>\n",
       "      <th>Imdb Rating</th>\n",
       "    </tr>\n",
       "  </thead>\n",
       "  <tbody>\n",
       "    <tr>\n",
       "      <th>0</th>\n",
       "      <td>Blade Runner 2049</td>\n",
       "      <td>Denis Villeneuve</td>\n",
       "      <td>164</td>\n",
       "      <td>8.0</td>\n",
       "    </tr>\n",
       "    <tr>\n",
       "      <th>1</th>\n",
       "      <td>65</td>\n",
       "      <td>Scott Beck</td>\n",
       "      <td>93</td>\n",
       "      <td>5.4</td>\n",
       "    </tr>\n",
       "    <tr>\n",
       "      <th>2</th>\n",
       "      <td>Guardians of the Galaxy Vol. 2</td>\n",
       "      <td>James Gunn</td>\n",
       "      <td>136</td>\n",
       "      <td>7.6</td>\n",
       "    </tr>\n",
       "    <tr>\n",
       "      <th>3</th>\n",
       "      <td>Spider-Man: No Way Home</td>\n",
       "      <td>Jon Watts</td>\n",
       "      <td>148</td>\n",
       "      <td>8.2</td>\n",
       "    </tr>\n",
       "    <tr>\n",
       "      <th>4</th>\n",
       "      <td>Jurassic Park</td>\n",
       "      <td>Steven Spielberg</td>\n",
       "      <td>127</td>\n",
       "      <td>8.2</td>\n",
       "    </tr>\n",
       "    <tr>\n",
       "      <th>...</th>\n",
       "      <td>...</td>\n",
       "      <td>...</td>\n",
       "      <td>...</td>\n",
       "      <td>...</td>\n",
       "    </tr>\n",
       "    <tr>\n",
       "      <th>450</th>\n",
       "      <td>Don't Look Up</td>\n",
       "      <td>Adam McKay</td>\n",
       "      <td>138</td>\n",
       "      <td>7.2</td>\n",
       "    </tr>\n",
       "    <tr>\n",
       "      <th>451</th>\n",
       "      <td>Blade Runner</td>\n",
       "      <td>Ridley Scott</td>\n",
       "      <td>117</td>\n",
       "      <td>8.1</td>\n",
       "    </tr>\n",
       "    <tr>\n",
       "      <th>452</th>\n",
       "      <td>The Terminator</td>\n",
       "      <td>James Cameron</td>\n",
       "      <td>107</td>\n",
       "      <td>8.1</td>\n",
       "    </tr>\n",
       "    <tr>\n",
       "      <th>453</th>\n",
       "      <td>2001: A Space Odyssey</td>\n",
       "      <td>Stanley Kubrick</td>\n",
       "      <td>149</td>\n",
       "      <td>8.3</td>\n",
       "    </tr>\n",
       "    <tr>\n",
       "      <th>454</th>\n",
       "      <td>Avatar</td>\n",
       "      <td>James Cameron</td>\n",
       "      <td>162</td>\n",
       "      <td>7.9</td>\n",
       "    </tr>\n",
       "  </tbody>\n",
       "</table>\n",
       "<p>455 rows × 4 columns</p>\n",
       "</div>"
      ],
      "text/plain": [
       "                              Title          Director  Runtime  Imdb Rating\n",
       "0                 Blade Runner 2049  Denis Villeneuve      164          8.0\n",
       "1                                65        Scott Beck       93          5.4\n",
       "2    Guardians of the Galaxy Vol. 2        James Gunn      136          7.6\n",
       "3           Spider-Man: No Way Home         Jon Watts      148          8.2\n",
       "4                     Jurassic Park  Steven Spielberg      127          8.2\n",
       "..                              ...               ...      ...          ...\n",
       "450                   Don't Look Up        Adam McKay      138          7.2\n",
       "451                    Blade Runner      Ridley Scott      117          8.1\n",
       "452                  The Terminator     James Cameron      107          8.1\n",
       "453           2001: A Space Odyssey   Stanley Kubrick      149          8.3\n",
       "454                          Avatar     James Cameron      162          7.9\n",
       "\n",
       "[455 rows x 4 columns]"
      ]
     },
     "execution_count": 150,
     "metadata": {},
     "output_type": "execute_result"
    }
   ],
   "source": [
    "# titles_data = pd.Series(titles, name = \"titles_data\")\n",
    "# directors_data = pd.Series(directors, name = \"directors_data\")\n",
    "titles_data = pd.DataFrame(titles, columns= [\"Title\"])\n",
    "directors_data = pd.DataFrame(directors, columns=[\"Director\"])\n",
    "runtimes_data = pd.DataFrame(runtimes, columns=[\"Runtime\"])\n",
    "imdb_ratings_data = pd.DataFrame(imdb_ratings, columns=[\"Imdb Rating\"])\n",
    "# meta_data = pd.merge(titles_data, directors_data, how='left' )\n",
    "meta_data = pd.concat([titles_data, directors_data, runtimes_data, imdb_ratings_data], axis = 1)\n",
    "meta_data"
   ]
  },
  {
   "cell_type": "code",
   "execution_count": null,
   "id": "d8908422-0b16-4322-a284-ba3561ab2449",
   "metadata": {},
   "outputs": [],
   "source": []
  },
  {
   "cell_type": "code",
   "execution_count": null,
   "id": "5e41a343-f6ec-48ae-9640-42fa8cdd2c6c",
   "metadata": {},
   "outputs": [],
   "source": []
  },
  {
   "cell_type": "code",
   "execution_count": null,
   "id": "1f1695b3-39f7-4a59-ac85-bdbbfdd215b3",
   "metadata": {},
   "outputs": [],
   "source": []
  },
  {
   "cell_type": "code",
   "execution_count": null,
   "id": "e8124c05-9255-43c8-9f5d-a7f8706a73d3",
   "metadata": {},
   "outputs": [],
   "source": []
  }
 ],
 "metadata": {
  "kernelspec": {
   "display_name": "Python 3 (ipykernel)",
   "language": "python",
   "name": "python3"
  },
  "language_info": {
   "codemirror_mode": {
    "name": "ipython",
    "version": 3
   },
   "file_extension": ".py",
   "mimetype": "text/x-python",
   "name": "python",
   "nbconvert_exporter": "python",
   "pygments_lexer": "ipython3",
   "version": "3.11.4"
  }
 },
 "nbformat": 4,
 "nbformat_minor": 5
}

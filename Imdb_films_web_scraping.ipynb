{
 "cells": [
  {
   "cell_type": "code",
   "execution_count": 224,
   "id": "7c7a8a74-ab3b-4170-bf48-51e5d006d4d5",
   "metadata": {},
   "outputs": [],
   "source": [
    "from requests import get\n",
    "from bs4 import BeautifulSoup\n",
    "from warnings import warn\n",
    "from time import sleep\n",
    "from random import randint\n",
    "import numpy as np, pandas as pd\n",
    "import matplotlib.pyplot as plt\n",
    "import seaborn as sns"
   ]
  },
  {
   "cell_type": "markdown",
   "id": "6d5db386-8fb1-4312-9948-7d93d04229e7",
   "metadata": {},
   "source": [
    "# Data Scraping Part"
   ]
  },
  {
   "cell_type": "code",
   "execution_count": 291,
   "id": "b7faa2ac-9acf-4b0e-a6fc-582efc3e03c0",
   "metadata": {},
   "outputs": [],
   "source": [
    "# Note this takes about 10 min to run if pages_range is set to 6001 .\n",
    "pages_range = 6001\n",
    "pages = np.arange(0,pages_range, 50) # pages are going by 50 films per page\n",
    "headers = {'Accept-Language': 'en-US,en;q=0.8'} # If this is not specified, the default language is Mandarin\n",
    "\n",
    "#initialize empty lists to store the variables scraped\n",
    "titles = []\n",
    "years = []\n",
    "ratings = []\n",
    "genres = []\n",
    "runtimes = []\n",
    "imdb_ratings = []\n",
    "imdb_ratings_standardized = []\n",
    "metascores = []\n",
    "votes = []\n",
    "directors = []\n",
    "response = get(\"https://www.imdb.com/search/title?genres=sci-fi&\"\n",
    "                  + \"start=\"\n",
    "                  + str(pages[0])\n",
    "                  + \"&explore=title_type,genres&ref_=adv_prv\", headers=headers)\n",
    "response\n",
    "page_html = BeautifulSoup(response.text, 'html.parser')\n",
    "page_html\n",
    "movie_containers = page_html.find_all('div', class_ = 'lister-item mode-advanced')"
   ]
  },
  {
   "cell_type": "code",
   "execution_count": 226,
   "id": "048bcf84-6f80-4679-b283-0483dd6c8e67",
   "metadata": {},
   "outputs": [],
   "source": [
    "# \"https://www.imdb.com/search/title?genres=sci-fi&start=64&explore=title_type,genres&ref_=adv_prv\""
   ]
  },
  {
   "cell_type": "markdown",
   "id": "f6508091-7371-4b90-984f-f9a11b8fa3bf",
   "metadata": {},
   "source": [
    "### how to extract the film's genre\n"
   ]
  },
  {
   "cell_type": "code",
   "execution_count": 227,
   "id": "af8c5119-7a8b-4d21-85f5-f0347ca84818",
   "metadata": {},
   "outputs": [
    {
     "data": {
      "text/plain": [
       "'Action, Adventure, Comedy'"
      ]
     },
     "execution_count": 227,
     "metadata": {},
     "output_type": "execute_result"
    }
   ],
   "source": [
    "movie_containers[0].p.find('span', class_= \"genre\").text.replace(\"\\n\", \"\").strip()"
   ]
  },
  {
   "cell_type": "markdown",
   "id": "ceba4ea4-245a-4500-a1bd-ba6cb5718f01",
   "metadata": {},
   "source": [
    "### how to extarct the movie name\n"
   ]
  },
  {
   "cell_type": "code",
   "execution_count": 228,
   "id": "bf3ebabd-cbd8-449f-9d34-e7cd74ff8202",
   "metadata": {},
   "outputs": [
    {
     "data": {
      "text/plain": [
       "'Gen V'"
      ]
     },
     "execution_count": 228,
     "metadata": {},
     "output_type": "execute_result"
    }
   ],
   "source": [
    "movie_containers[0].h3.find(\"a\").text"
   ]
  },
  {
   "cell_type": "markdown",
   "id": "0bf275b2-826d-4ce1-ad96-e88a6017ee60",
   "metadata": {},
   "source": [
    "### the imdb rating\n"
   ]
  },
  {
   "cell_type": "code",
   "execution_count": 229,
   "id": "6182f697-f0e0-44d4-a0db-5eb0b67b7521",
   "metadata": {},
   "outputs": [
    {
     "data": {
      "text/plain": [
       "'8.0'"
      ]
     },
     "execution_count": 229,
     "metadata": {},
     "output_type": "execute_result"
    }
   ],
   "source": [
    "movie_containers[0].strong.text"
   ]
  },
  {
   "cell_type": "markdown",
   "id": "820e3d8f-b008-497a-87f1-b217dfe96c96",
   "metadata": {},
   "source": [
    "### the director's name\n"
   ]
  },
  {
   "cell_type": "code",
   "execution_count": 230,
   "id": "294de43d-eaf6-48d1-83c3-766a979d827a",
   "metadata": {},
   "outputs": [
    {
     "data": {
      "text/plain": [
       "'Jaz Sinclair'"
      ]
     },
     "execution_count": 230,
     "metadata": {},
     "output_type": "execute_result"
    }
   ],
   "source": [
    "# here we use the find method afforded by the bs4 method not find of the string class\n",
    "movie_containers[0].find(\"p\", class_='').find(\"a\").text"
   ]
  },
  {
   "cell_type": "code",
   "execution_count": 231,
   "id": "5fd8e3cc-14fe-4b2d-9e37-d88d4b8abc55",
   "metadata": {},
   "outputs": [
    {
     "data": {
      "text/plain": [
       "['Chance Perdomo', 'Lizze Broadway', 'Maddie Phillips']"
      ]
     },
     "execution_count": 231,
     "metadata": {},
     "output_type": "execute_result"
    }
   ],
   "source": [
    "star_elemnts = movie_containers[0].find(\"p\", class_ = \"\").find_all(\"a\")\n",
    "names = [s.text for s in star_elemnts]\n",
    "#verifying data coherance\n",
    "star_names = names[1:]\n",
    "star_names"
   ]
  },
  {
   "cell_type": "markdown",
   "id": "ed5a6e78-96be-412c-ba18-5253759f016f",
   "metadata": {},
   "source": [
    "### The main loop:\n",
    "it loops over the web pages and collects data for every film in that page, the container here refer to the part which\n",
    "contains all infos about a film"
   ]
  },
  {
   "cell_type": "code",
   "execution_count": 232,
   "id": "30c1c890-44ff-4d17-8b72-c177c66e8b6f",
   "metadata": {},
   "outputs": [],
   "source": [
    "for page in pages:\n",
    "  \n",
    "   #get request for sci-fi\n",
    "   response = get(\"https://www.imdb.com/search/title?genres=sci-fi&\"\n",
    "                  + \"start=\"\n",
    "                  + str(page)\n",
    "                  + \"&explore=title_type,genres&ref_=adv_prv\", headers=headers)\n",
    "  \n",
    "   sleep(randint(8,15))\n",
    "   \n",
    "   #throw warning for status codes that are not 200\n",
    "   if response.status_code != 200:\n",
    "       warn('Request: {}; Status code: {}'.format(requests, response.status_code))\n",
    "\n",
    "   #parse the content of current iteration of request\n",
    "   page_html = BeautifulSoup(response.text, 'html.parser')\n",
    "      \n",
    "   movie_containers = page_html.find_all('div', class_ = 'lister-item mode-advanced')\n",
    "  \n",
    "   #extract the 50 movies for that page\n",
    "   for container in movie_containers:\n",
    "\n",
    "       #conditional for all with metascore, this doesn t consider movies without metascore\n",
    "       if container.find('div', class_ = 'ratings-metascore') is not None:\n",
    "\n",
    "           #title\n",
    "           title = container.h3.find(\"a\").text\n",
    "           titles.append(title)\n",
    "\n",
    "           if container.h3.find('span', class_= 'lister-item-year text-muted unbold') is not None:\n",
    "            \n",
    "             #year released\n",
    "             year = container.h3.find('span', class_= 'lister-item-year text-muted unbold').text # remove the parentheses around the year and make it an integer\n",
    "             years.append(year)\n",
    "\n",
    "           else:\n",
    "             years.append(None) # each of the additional if clauses are to handle type None data, replacing it with an empty string so the arrays are of the same length at the end of the scraping\n",
    "\n",
    "           if container.p.find('span', class_ = 'genre') is not None:\n",
    "            \n",
    "             #genre\n",
    "             genre = container.p.find('span', class_ = 'genre').text.replace(\"\\n\", \"\").rstrip().split(',') # remove the whitespace character, strip, and split to create an array of genres\n",
    "             genres.append(genre)\n",
    "          \n",
    "           else:\n",
    "             genres.append(\"\")\n",
    "\n",
    "           if container.p.find('span', class_ = 'runtime') is not None:\n",
    "\n",
    "             #runtime\n",
    "             time = int(container.p.find('span', class_ = 'runtime').text.replace(\" min\", \"\")) # remove the minute word from the runtime and make it an integer\n",
    "             runtimes.append(time)\n",
    "\n",
    "           else:\n",
    "             runtimes.append(None)\n",
    "\n",
    "           if float(container.strong.text) is not None:\n",
    "\n",
    "             #IMDB ratings\n",
    "             imdb = float(container.strong.text) # non-standardized variable\n",
    "             imdb_ratings.append(imdb)\n",
    "\n",
    "           else:\n",
    "             imdb_ratings.append(None)\n",
    "\n",
    "           if container.find('span', class_ = 'metascore').text is not None:\n",
    "\n",
    "             #Metascore\n",
    "             m_score = int(container.find('span', class_ = 'metascore').text) # make it an integer\n",
    "             metascores.append(m_score)\n",
    "\n",
    "           else:\n",
    "             metascores.append(None)\n",
    "               # \n",
    "           if container.find(\"p\", class_='').find(\"a\").text is not None:\n",
    "\n",
    "             #Director\n",
    "             d = container.find(\"p\", class_='').find(\"a\").text\n",
    "             directors.append(d)\n",
    "           else:\n",
    "             directors.append(\"Not found\")\n",
    "           if container.find('span', attrs = {'name':'nv'})['data-value'] is not None:\n",
    "\n",
    "             #Number of votes\n",
    "             vote = int(container.find('span', attrs = {'name':'nv'})['data-value'])\n",
    "             votes.append(vote)\n",
    "\n",
    "           else:\n",
    "               votes.append(None)"
   ]
  },
  {
   "cell_type": "markdown",
   "id": "5ff8d90c-712c-4bcb-bfd2-74eaa7c5e0b5",
   "metadata": {},
   "source": [
    "### Organizing collected data\n"
   ]
  },
  {
   "cell_type": "code",
   "execution_count": 233,
   "id": "1440206a-9921-4313-82bd-6f89de64f738",
   "metadata": {},
   "outputs": [],
   "source": [
    "titles_data = pd.DataFrame(titles, columns= [\"Title\"])\n",
    "directors_data = pd.DataFrame(directors, columns=[\"Director\"])\n",
    "runtimes_data = pd.DataFrame(runtimes, columns=[\"Runtime\"])\n",
    "imdb_ratings_data = pd.DataFrame(imdb_ratings, columns=[\"Imdb_Rating\"])"
   ]
  },
  {
   "cell_type": "code",
   "execution_count": 234,
   "id": "d8908422-0b16-4322-a284-ba3561ab2449",
   "metadata": {},
   "outputs": [
    {
     "data": {
      "text/html": [
       "<div>\n",
       "<style scoped>\n",
       "    .dataframe tbody tr th:only-of-type {\n",
       "        vertical-align: middle;\n",
       "    }\n",
       "\n",
       "    .dataframe tbody tr th {\n",
       "        vertical-align: top;\n",
       "    }\n",
       "\n",
       "    .dataframe thead th {\n",
       "        text-align: right;\n",
       "    }\n",
       "</style>\n",
       "<table border=\"1\" class=\"dataframe\">\n",
       "  <thead>\n",
       "    <tr style=\"text-align: right;\">\n",
       "      <th></th>\n",
       "      <th>Title</th>\n",
       "      <th>Director</th>\n",
       "      <th>Runtime</th>\n",
       "      <th>Imdb_Rating</th>\n",
       "    </tr>\n",
       "  </thead>\n",
       "  <tbody>\n",
       "    <tr>\n",
       "      <th>0</th>\n",
       "      <td>The Creator</td>\n",
       "      <td>Gareth Edwards</td>\n",
       "      <td>133</td>\n",
       "      <td>7.1</td>\n",
       "    </tr>\n",
       "    <tr>\n",
       "      <th>1</th>\n",
       "      <td>No One Will Save You</td>\n",
       "      <td>Brian Duffield</td>\n",
       "      <td>93</td>\n",
       "      <td>6.3</td>\n",
       "    </tr>\n",
       "    <tr>\n",
       "      <th>2</th>\n",
       "      <td>Elemental</td>\n",
       "      <td>Peter Sohn</td>\n",
       "      <td>101</td>\n",
       "      <td>7.0</td>\n",
       "    </tr>\n",
       "    <tr>\n",
       "      <th>3</th>\n",
       "      <td>Meg 2: The Trench</td>\n",
       "      <td>Ben Wheatley</td>\n",
       "      <td>116</td>\n",
       "      <td>5.1</td>\n",
       "    </tr>\n",
       "    <tr>\n",
       "      <th>4</th>\n",
       "      <td>Poor Things</td>\n",
       "      <td>Yorgos Lanthimos</td>\n",
       "      <td>141</td>\n",
       "      <td>8.5</td>\n",
       "    </tr>\n",
       "    <tr>\n",
       "      <th>5</th>\n",
       "      <td>Blue Beetle</td>\n",
       "      <td>Angel Manuel Soto</td>\n",
       "      <td>127</td>\n",
       "      <td>6.1</td>\n",
       "    </tr>\n",
       "    <tr>\n",
       "      <th>6</th>\n",
       "      <td>PAW Patrol: The Mighty Movie</td>\n",
       "      <td>Cal Brunker</td>\n",
       "      <td>88</td>\n",
       "      <td>6.0</td>\n",
       "    </tr>\n",
       "    <tr>\n",
       "      <th>7</th>\n",
       "      <td>Spider-Man: Across the Spider-Verse</td>\n",
       "      <td>Joaquim Dos Santos</td>\n",
       "      <td>140</td>\n",
       "      <td>8.7</td>\n",
       "    </tr>\n",
       "    <tr>\n",
       "      <th>8</th>\n",
       "      <td>Teenage Mutant Ninja Turtles: Mutant Mayhem</td>\n",
       "      <td>Jeff Rowe</td>\n",
       "      <td>99</td>\n",
       "      <td>7.3</td>\n",
       "    </tr>\n",
       "    <tr>\n",
       "      <th>9</th>\n",
       "      <td>Dune</td>\n",
       "      <td>Denis Villeneuve</td>\n",
       "      <td>155</td>\n",
       "      <td>8.0</td>\n",
       "    </tr>\n",
       "    <tr>\n",
       "      <th>10</th>\n",
       "      <td>Guardians of the Galaxy Vol. 3</td>\n",
       "      <td>James Gunn</td>\n",
       "      <td>150</td>\n",
       "      <td>7.9</td>\n",
       "    </tr>\n",
       "    <tr>\n",
       "      <th>11</th>\n",
       "      <td>Asteroid City</td>\n",
       "      <td>Wes Anderson</td>\n",
       "      <td>105</td>\n",
       "      <td>6.6</td>\n",
       "    </tr>\n",
       "    <tr>\n",
       "      <th>12</th>\n",
       "      <td>Indiana Jones and the Dial of Destiny</td>\n",
       "      <td>James Mangold</td>\n",
       "      <td>154</td>\n",
       "      <td>6.7</td>\n",
       "    </tr>\n",
       "    <tr>\n",
       "      <th>13</th>\n",
       "      <td>Interstellar</td>\n",
       "      <td>Christopher Nolan</td>\n",
       "      <td>169</td>\n",
       "      <td>8.7</td>\n",
       "    </tr>\n",
       "    <tr>\n",
       "      <th>14</th>\n",
       "      <td>Infinite</td>\n",
       "      <td>Antoine Fuqua</td>\n",
       "      <td>106</td>\n",
       "      <td>5.5</td>\n",
       "    </tr>\n",
       "    <tr>\n",
       "      <th>15</th>\n",
       "      <td>The Flash</td>\n",
       "      <td>Andy Muschietti</td>\n",
       "      <td>144</td>\n",
       "      <td>6.7</td>\n",
       "    </tr>\n",
       "    <tr>\n",
       "      <th>16</th>\n",
       "      <td>The Flash</td>\n",
       "      <td>Andy Muschietti</td>\n",
       "      <td>144</td>\n",
       "      <td>6.7</td>\n",
       "    </tr>\n",
       "    <tr>\n",
       "      <th>17</th>\n",
       "      <td>Everything Everywhere All at Once</td>\n",
       "      <td>Daniel Kwan</td>\n",
       "      <td>139</td>\n",
       "      <td>7.8</td>\n",
       "    </tr>\n",
       "    <tr>\n",
       "      <th>18</th>\n",
       "      <td>The Thing</td>\n",
       "      <td>John Carpenter</td>\n",
       "      <td>109</td>\n",
       "      <td>8.2</td>\n",
       "    </tr>\n",
       "    <tr>\n",
       "      <th>19</th>\n",
       "      <td>Transformers: Rise of the Beasts</td>\n",
       "      <td>Steven Caple Jr.</td>\n",
       "      <td>127</td>\n",
       "      <td>6.1</td>\n",
       "    </tr>\n",
       "  </tbody>\n",
       "</table>\n",
       "</div>"
      ],
      "text/plain": [
       "                                          Title            Director  Runtime  \\\n",
       "0                                   The Creator      Gareth Edwards      133   \n",
       "1                          No One Will Save You      Brian Duffield       93   \n",
       "2                                     Elemental          Peter Sohn      101   \n",
       "3                             Meg 2: The Trench        Ben Wheatley      116   \n",
       "4                                   Poor Things    Yorgos Lanthimos      141   \n",
       "5                                   Blue Beetle   Angel Manuel Soto      127   \n",
       "6                  PAW Patrol: The Mighty Movie         Cal Brunker       88   \n",
       "7           Spider-Man: Across the Spider-Verse  Joaquim Dos Santos      140   \n",
       "8   Teenage Mutant Ninja Turtles: Mutant Mayhem           Jeff Rowe       99   \n",
       "9                                          Dune    Denis Villeneuve      155   \n",
       "10               Guardians of the Galaxy Vol. 3          James Gunn      150   \n",
       "11                                Asteroid City        Wes Anderson      105   \n",
       "12        Indiana Jones and the Dial of Destiny       James Mangold      154   \n",
       "13                                 Interstellar   Christopher Nolan      169   \n",
       "14                                     Infinite       Antoine Fuqua      106   \n",
       "15                                    The Flash     Andy Muschietti      144   \n",
       "16                                    The Flash     Andy Muschietti      144   \n",
       "17            Everything Everywhere All at Once         Daniel Kwan      139   \n",
       "18                                    The Thing      John Carpenter      109   \n",
       "19             Transformers: Rise of the Beasts    Steven Caple Jr.      127   \n",
       "\n",
       "    Imdb_Rating  \n",
       "0           7.1  \n",
       "1           6.3  \n",
       "2           7.0  \n",
       "3           5.1  \n",
       "4           8.5  \n",
       "5           6.1  \n",
       "6           6.0  \n",
       "7           8.7  \n",
       "8           7.3  \n",
       "9           8.0  \n",
       "10          7.9  \n",
       "11          6.6  \n",
       "12          6.7  \n",
       "13          8.7  \n",
       "14          5.5  \n",
       "15          6.7  \n",
       "16          6.7  \n",
       "17          7.8  \n",
       "18          8.2  \n",
       "19          6.1  "
      ]
     },
     "execution_count": 234,
     "metadata": {},
     "output_type": "execute_result"
    }
   ],
   "source": [
    "meta_data = pd.concat([titles_data, directors_data, runtimes_data, imdb_ratings_data], axis = 1)\n",
    "meta_data.head(20)"
   ]
  },
  {
   "cell_type": "markdown",
   "id": "c4a8bf07-a4ec-4dc7-be00-2c4d5bfa108a",
   "metadata": {},
   "source": [
    "# The data analysis part"
   ]
  },
  {
   "cell_type": "code",
   "execution_count": 235,
   "id": "1f1695b3-39f7-4a59-ac85-bdbbfdd215b3",
   "metadata": {},
   "outputs": [
    {
     "data": {
      "text/html": [
       "<div>\n",
       "<style scoped>\n",
       "    .dataframe tbody tr th:only-of-type {\n",
       "        vertical-align: middle;\n",
       "    }\n",
       "\n",
       "    .dataframe tbody tr th {\n",
       "        vertical-align: top;\n",
       "    }\n",
       "\n",
       "    .dataframe thead th {\n",
       "        text-align: right;\n",
       "    }\n",
       "</style>\n",
       "<table border=\"1\" class=\"dataframe\">\n",
       "  <thead>\n",
       "    <tr style=\"text-align: right;\">\n",
       "      <th></th>\n",
       "      <th>Title</th>\n",
       "      <th>Director</th>\n",
       "      <th>Runtime</th>\n",
       "      <th>Imdb_Rating</th>\n",
       "    </tr>\n",
       "  </thead>\n",
       "  <tbody>\n",
       "    <tr>\n",
       "      <th>0</th>\n",
       "      <td>The Creator</td>\n",
       "      <td>Gareth Edwards</td>\n",
       "      <td>133</td>\n",
       "      <td>7.1</td>\n",
       "    </tr>\n",
       "    <tr>\n",
       "      <th>1</th>\n",
       "      <td>No One Will Save You</td>\n",
       "      <td>Brian Duffield</td>\n",
       "      <td>93</td>\n",
       "      <td>6.3</td>\n",
       "    </tr>\n",
       "    <tr>\n",
       "      <th>2</th>\n",
       "      <td>Elemental</td>\n",
       "      <td>Peter Sohn</td>\n",
       "      <td>101</td>\n",
       "      <td>7.0</td>\n",
       "    </tr>\n",
       "    <tr>\n",
       "      <th>3</th>\n",
       "      <td>Meg 2: The Trench</td>\n",
       "      <td>Ben Wheatley</td>\n",
       "      <td>116</td>\n",
       "      <td>5.1</td>\n",
       "    </tr>\n",
       "    <tr>\n",
       "      <th>4</th>\n",
       "      <td>Poor Things</td>\n",
       "      <td>Yorgos Lanthimos</td>\n",
       "      <td>141</td>\n",
       "      <td>8.5</td>\n",
       "    </tr>\n",
       "    <tr>\n",
       "      <th>5</th>\n",
       "      <td>Blue Beetle</td>\n",
       "      <td>Angel Manuel Soto</td>\n",
       "      <td>127</td>\n",
       "      <td>6.1</td>\n",
       "    </tr>\n",
       "    <tr>\n",
       "      <th>6</th>\n",
       "      <td>PAW Patrol: The Mighty Movie</td>\n",
       "      <td>Cal Brunker</td>\n",
       "      <td>88</td>\n",
       "      <td>6.0</td>\n",
       "    </tr>\n",
       "    <tr>\n",
       "      <th>7</th>\n",
       "      <td>Spider-Man: Across the Spider-Verse</td>\n",
       "      <td>Joaquim Dos Santos</td>\n",
       "      <td>140</td>\n",
       "      <td>8.7</td>\n",
       "    </tr>\n",
       "    <tr>\n",
       "      <th>8</th>\n",
       "      <td>Teenage Mutant Ninja Turtles: Mutant Mayhem</td>\n",
       "      <td>Jeff Rowe</td>\n",
       "      <td>99</td>\n",
       "      <td>7.3</td>\n",
       "    </tr>\n",
       "    <tr>\n",
       "      <th>9</th>\n",
       "      <td>Dune</td>\n",
       "      <td>Denis Villeneuve</td>\n",
       "      <td>155</td>\n",
       "      <td>8.0</td>\n",
       "    </tr>\n",
       "  </tbody>\n",
       "</table>\n",
       "</div>"
      ],
      "text/plain": [
       "                                         Title            Director  Runtime  \\\n",
       "0                                  The Creator      Gareth Edwards      133   \n",
       "1                         No One Will Save You      Brian Duffield       93   \n",
       "2                                    Elemental          Peter Sohn      101   \n",
       "3                            Meg 2: The Trench        Ben Wheatley      116   \n",
       "4                                  Poor Things    Yorgos Lanthimos      141   \n",
       "5                                  Blue Beetle   Angel Manuel Soto      127   \n",
       "6                 PAW Patrol: The Mighty Movie         Cal Brunker       88   \n",
       "7          Spider-Man: Across the Spider-Verse  Joaquim Dos Santos      140   \n",
       "8  Teenage Mutant Ninja Turtles: Mutant Mayhem           Jeff Rowe       99   \n",
       "9                                         Dune    Denis Villeneuve      155   \n",
       "\n",
       "   Imdb_Rating  \n",
       "0          7.1  \n",
       "1          6.3  \n",
       "2          7.0  \n",
       "3          5.1  \n",
       "4          8.5  \n",
       "5          6.1  \n",
       "6          6.0  \n",
       "7          8.7  \n",
       "8          7.3  \n",
       "9          8.0  "
      ]
     },
     "execution_count": 235,
     "metadata": {},
     "output_type": "execute_result"
    }
   ],
   "source": [
    "#creating a copy of data\n",
    "data = meta_data.copy()\n",
    "data.head(10)"
   ]
  },
  {
   "cell_type": "code",
   "execution_count": 257,
   "id": "f5553b2f-5c43-48aa-9d84-425a84077b28",
   "metadata": {},
   "outputs": [
    {
     "name": "stdout",
     "output_type": "stream",
     "text": [
      "<class 'pandas.core.frame.DataFrame'>\n",
      "Index: 1347 entries, 0 to 1347\n",
      "Data columns (total 4 columns):\n",
      " #   Column       Non-Null Count  Dtype   \n",
      "---  ------       --------------  -----   \n",
      " 0   Title        1347 non-null   object  \n",
      " 1   Director     1347 non-null   category\n",
      " 2   Runtime      1347 non-null   int64   \n",
      " 3   Imdb_Rating  1347 non-null   float64 \n",
      "dtypes: category(1), float64(1), int64(1), object(1)\n",
      "memory usage: 84.5+ KB\n"
     ]
    },
    {
     "data": {
      "text/html": [
       "<div>\n",
       "<style scoped>\n",
       "    .dataframe tbody tr th:only-of-type {\n",
       "        vertical-align: middle;\n",
       "    }\n",
       "\n",
       "    .dataframe tbody tr th {\n",
       "        vertical-align: top;\n",
       "    }\n",
       "\n",
       "    .dataframe thead th {\n",
       "        text-align: right;\n",
       "    }\n",
       "</style>\n",
       "<table border=\"1\" class=\"dataframe\">\n",
       "  <thead>\n",
       "    <tr style=\"text-align: right;\">\n",
       "      <th></th>\n",
       "      <th>Title</th>\n",
       "      <th>Director</th>\n",
       "      <th>Runtime</th>\n",
       "      <th>Imdb_Rating</th>\n",
       "    </tr>\n",
       "  </thead>\n",
       "  <tbody>\n",
       "  </tbody>\n",
       "</table>\n",
       "</div>"
      ],
      "text/plain": [
       "Empty DataFrame\n",
       "Columns: [Title, Director, Runtime, Imdb_Rating]\n",
       "Index: []"
      ]
     },
     "execution_count": 257,
     "metadata": {},
     "output_type": "execute_result"
    }
   ],
   "source": [
    "#seeking optimizing ideas\n",
    "data.info()\n",
    "data[\"Director\"].nunique()\n",
    "data[\"Imdb_Rating\"].nunique()\n",
    "data.duplicated(subset=[\"Title\", \"Director\"]).sum()\n",
    "data[data[\"Title\"] == \"Arrow\"]"
   ]
  },
  {
   "cell_type": "code",
   "execution_count": 258,
   "id": "e8124c05-9255-43c8-9f5d-a7f8706a73d3",
   "metadata": {},
   "outputs": [
    {
     "name": "stdout",
     "output_type": "stream",
     "text": [
      "<class 'pandas.core.frame.DataFrame'>\n",
      "Index: 1347 entries, 0 to 1347\n",
      "Data columns (total 4 columns):\n",
      " #   Column       Non-Null Count  Dtype   \n",
      "---  ------       --------------  -----   \n",
      " 0   Title        1347 non-null   object  \n",
      " 1   Director     1347 non-null   category\n",
      " 2   Runtime      1347 non-null   int64   \n",
      " 3   Imdb_Rating  1347 non-null   float64 \n",
      "dtypes: category(1), float64(1), int64(1), object(1)\n",
      "memory usage: 84.5+ KB\n"
     ]
    },
    {
     "data": {
      "text/plain": [
       "(1347, 4)"
      ]
     },
     "execution_count": 258,
     "metadata": {},
     "output_type": "execute_result"
    }
   ],
   "source": [
    "#optimizing data loading time\n",
    "data.drop_duplicates(inplace = True)\n",
    "data.info()\n",
    "data.shape\n"
   ]
  },
  {
   "cell_type": "markdown",
   "id": "f1a1f60f-5e77-4c1e-bc27-0dbe7b46fe9a",
   "metadata": {},
   "source": [
    "~84% of loading time gained with a 482 rows dataFrame."
   ]
  },
  {
   "cell_type": "markdown",
   "id": "ce2a73cc-2ed7-48d7-8b2b-c435e16731ed",
   "metadata": {},
   "source": [
    "#### List of top rated film(s) "
   ]
  },
  {
   "cell_type": "code",
   "execution_count": 259,
   "id": "08b88d3c-d975-445e-b84e-2e29804f2c60",
   "metadata": {},
   "outputs": [
    {
     "data": {
      "text/html": [
       "<div>\n",
       "<style scoped>\n",
       "    .dataframe tbody tr th:only-of-type {\n",
       "        vertical-align: middle;\n",
       "    }\n",
       "\n",
       "    .dataframe tbody tr th {\n",
       "        vertical-align: top;\n",
       "    }\n",
       "\n",
       "    .dataframe thead th {\n",
       "        text-align: right;\n",
       "    }\n",
       "</style>\n",
       "<table border=\"1\" class=\"dataframe\">\n",
       "  <thead>\n",
       "    <tr style=\"text-align: right;\">\n",
       "      <th></th>\n",
       "      <th>Title</th>\n",
       "      <th>Director</th>\n",
       "      <th>Runtime</th>\n",
       "      <th>Imdb_Rating</th>\n",
       "    </tr>\n",
       "  </thead>\n",
       "  <tbody>\n",
       "    <tr>\n",
       "      <th>21</th>\n",
       "      <td>Inception</td>\n",
       "      <td>Christopher Nolan</td>\n",
       "      <td>148</td>\n",
       "      <td>8.8</td>\n",
       "    </tr>\n",
       "  </tbody>\n",
       "</table>\n",
       "</div>"
      ],
      "text/plain": [
       "        Title           Director  Runtime  Imdb_Rating\n",
       "21  Inception  Christopher Nolan      148          8.8"
      ]
     },
     "execution_count": 259,
     "metadata": {},
     "output_type": "execute_result"
    }
   ],
   "source": [
    "max_rating = data[\"Imdb_Rating\"].max()\n",
    "top_rated_films = data[data['Imdb_Rating'] == max_rating ]\n",
    "top_rated_films"
   ]
  },
  {
   "cell_type": "markdown",
   "id": "888ce8f9-86d7-406f-b95e-42cd327b9764",
   "metadata": {},
   "source": [
    "#### Top 10 Longest Films"
   ]
  },
  {
   "cell_type": "code",
   "execution_count": 260,
   "id": "2ccace5d-bc0c-468f-a50b-f941ad0d122f",
   "metadata": {},
   "outputs": [
    {
     "data": {
      "text/html": [
       "<div>\n",
       "<style scoped>\n",
       "    .dataframe tbody tr th:only-of-type {\n",
       "        vertical-align: middle;\n",
       "    }\n",
       "\n",
       "    .dataframe tbody tr th {\n",
       "        vertical-align: top;\n",
       "    }\n",
       "\n",
       "    .dataframe thead th {\n",
       "        text-align: right;\n",
       "    }\n",
       "</style>\n",
       "<table border=\"1\" class=\"dataframe\">\n",
       "  <thead>\n",
       "    <tr style=\"text-align: right;\">\n",
       "      <th></th>\n",
       "      <th>Title</th>\n",
       "      <th>Director</th>\n",
       "      <th>Runtime</th>\n",
       "      <th>Imdb_Rating</th>\n",
       "    </tr>\n",
       "  </thead>\n",
       "  <tbody>\n",
       "    <tr>\n",
       "      <th>163</th>\n",
       "      <td>Zack Snyder's Justice League</td>\n",
       "      <td>Zack Snyder</td>\n",
       "      <td>242</td>\n",
       "      <td>7.9</td>\n",
       "    </tr>\n",
       "    <tr>\n",
       "      <th>1164</th>\n",
       "      <td>World on a Wire</td>\n",
       "      <td>Klaus Löwitsch</td>\n",
       "      <td>212</td>\n",
       "      <td>7.7</td>\n",
       "    </tr>\n",
       "    <tr>\n",
       "      <th>23</th>\n",
       "      <td>Avatar: The Way of Water</td>\n",
       "      <td>James Cameron</td>\n",
       "      <td>192</td>\n",
       "      <td>7.6</td>\n",
       "    </tr>\n",
       "    <tr>\n",
       "      <th>41</th>\n",
       "      <td>Avengers: Endgame</td>\n",
       "      <td>Anthony Russo</td>\n",
       "      <td>181</td>\n",
       "      <td>8.4</td>\n",
       "    </tr>\n",
       "    <tr>\n",
       "      <th>1120</th>\n",
       "      <td>Hard to Be a God</td>\n",
       "      <td>Aleksey German</td>\n",
       "      <td>177</td>\n",
       "      <td>6.6</td>\n",
       "    </tr>\n",
       "    <tr>\n",
       "      <th>597</th>\n",
       "      <td>The Postman</td>\n",
       "      <td>Kevin Costner</td>\n",
       "      <td>177</td>\n",
       "      <td>6.1</td>\n",
       "    </tr>\n",
       "    <tr>\n",
       "      <th>269</th>\n",
       "      <td>Waterworld</td>\n",
       "      <td>Kevin Reynolds</td>\n",
       "      <td>177</td>\n",
       "      <td>6.3</td>\n",
       "    </tr>\n",
       "    <tr>\n",
       "      <th>642</th>\n",
       "      <td>The Wandering Earth II</td>\n",
       "      <td>Frant Gwo</td>\n",
       "      <td>173</td>\n",
       "      <td>7.0</td>\n",
       "    </tr>\n",
       "    <tr>\n",
       "      <th>286</th>\n",
       "      <td>Cloud Atlas</td>\n",
       "      <td>Tom Tykwer</td>\n",
       "      <td>172</td>\n",
       "      <td>7.4</td>\n",
       "    </tr>\n",
       "    <tr>\n",
       "      <th>13</th>\n",
       "      <td>Interstellar</td>\n",
       "      <td>Christopher Nolan</td>\n",
       "      <td>169</td>\n",
       "      <td>8.7</td>\n",
       "    </tr>\n",
       "  </tbody>\n",
       "</table>\n",
       "</div>"
      ],
      "text/plain": [
       "                             Title           Director  Runtime  Imdb_Rating\n",
       "163   Zack Snyder's Justice League        Zack Snyder      242          7.9\n",
       "1164               World on a Wire     Klaus Löwitsch      212          7.7\n",
       "23        Avatar: The Way of Water      James Cameron      192          7.6\n",
       "41               Avengers: Endgame      Anthony Russo      181          8.4\n",
       "1120              Hard to Be a God     Aleksey German      177          6.6\n",
       "597                    The Postman      Kevin Costner      177          6.1\n",
       "269                     Waterworld     Kevin Reynolds      177          6.3\n",
       "642         The Wandering Earth II          Frant Gwo      173          7.0\n",
       "286                    Cloud Atlas         Tom Tykwer      172          7.4\n",
       "13                    Interstellar  Christopher Nolan      169          8.7"
      ]
     },
     "execution_count": 260,
     "metadata": {},
     "output_type": "execute_result"
    }
   ],
   "source": [
    "top_long_films = data.sort_values(by = [\"Runtime\"], ascending=False).head(10)\n",
    "top_long_films"
   ]
  },
  {
   "cell_type": "markdown",
   "id": "5c90707e-1eee-4849-9795-58074788a097",
   "metadata": {},
   "source": [
    "#### the director(s) with the greatest number of films"
   ]
  },
  {
   "cell_type": "code",
   "execution_count": 261,
   "id": "3dbb1639-e75c-4d97-ba1d-7474a8d81d5e",
   "metadata": {},
   "outputs": [
    {
     "data": {
      "text/html": [
       "<div>\n",
       "<style scoped>\n",
       "    .dataframe tbody tr th:only-of-type {\n",
       "        vertical-align: middle;\n",
       "    }\n",
       "\n",
       "    .dataframe tbody tr th {\n",
       "        vertical-align: top;\n",
       "    }\n",
       "\n",
       "    .dataframe thead th {\n",
       "        text-align: right;\n",
       "    }\n",
       "</style>\n",
       "<table border=\"1\" class=\"dataframe\">\n",
       "  <thead>\n",
       "    <tr style=\"text-align: right;\">\n",
       "      <th></th>\n",
       "      <th>Director</th>\n",
       "      <th>Number Of Films</th>\n",
       "    </tr>\n",
       "  </thead>\n",
       "  <tbody>\n",
       "    <tr>\n",
       "      <th>207</th>\n",
       "      <td>David Cronenberg</td>\n",
       "      <td>10</td>\n",
       "    </tr>\n",
       "    <tr>\n",
       "      <th>441</th>\n",
       "      <td>John Carpenter</td>\n",
       "      <td>10</td>\n",
       "    </tr>\n",
       "  </tbody>\n",
       "</table>\n",
       "</div>"
      ],
      "text/plain": [
       "             Director  Number Of Films\n",
       "207  David Cronenberg               10\n",
       "441    John Carpenter               10"
      ]
     },
     "execution_count": 261,
     "metadata": {},
     "output_type": "execute_result"
    }
   ],
   "source": [
    "directors_groups =  data.groupby('Director')['Title']\n",
    "productive_directors = directors_groups.count().reset_index().rename(columns={\"Title\" : \"Number Of Films\"}).sort_values(by=[\"Number Of Films\"])\n",
    "productive_directors = productive_directors[productive_directors[\"Number Of Films\"] == productive_directors[\"Number Of Films\"].max()]\n",
    "productive_directors."
   ]
  },
  {
   "cell_type": "markdown",
   "id": "efec5d67-eded-41d9-b4d4-1074df67cfb2",
   "metadata": {},
   "source": [
    "#### VisualAverage runtimes for films categirised with runtime"
   ]
  },
  {
   "cell_type": "code",
   "execution_count": 262,
   "id": "0fcc5938-bda6-4233-824d-d5907e86ea5e",
   "metadata": {},
   "outputs": [],
   "source": [
    "short_films = data[data[\"Runtime\"].between(0,100)]\n",
    "medium_films = data[data[\"Runtime\"].between(101,160)]\n",
    "long_films = data[data[\"Runtime\"].between(161,data[\"Runtime\"].max())]\n"
   ]
  },
  {
   "cell_type": "markdown",
   "id": "008da3e1-c688-4fba-ab2f-54ec88506f71",
   "metadata": {},
   "source": [
    "#### Films Ratings in function of Runtime"
   ]
  },
  {
   "cell_type": "code",
   "execution_count": 263,
   "id": "ebb5a81c-32ae-4b78-9397-1348b1a333fb",
   "metadata": {},
   "outputs": [
    {
     "data": {
      "image/png": "[encoded data removed]",
      "text/plain": [
       "<Figure size 640x480 with 1 Axes>"
      ]
     },
     "metadata": {},
     "output_type": "display_data"
    }
   ],
   "source": [
    "imdb_ratings = data.set_index(\"Runtime\")[\"Imdb_Rating\"]\n",
    "plt.scatter(imdb_ratings.index, imdb_ratings, marker='x', color = \"red\")\n",
    "plt.xlabel(\"Runtime\")\n",
    "plt.ylabel(\"IMDb Rating\")\n",
    "plt.title(\"Films Ratings in function of Runtime\")\n",
    "plt.show()"
   ]
  },
  {
   "cell_type": "markdown",
   "id": "28fc896c-0b5e-4c7d-8fdd-fb58a6ad1c1b",
   "metadata": {},
   "source": [
    "#### Distribution of IMDb Ratings"
   ]
  },
  {
   "cell_type": "code",
   "execution_count": 264,
   "id": "4dc29a1c-49a5-41e7-a9d1-c06cf590532f",
   "metadata": {},
   "outputs": [
    {
     "data": {
      "text/html": [
       "<div>\n",
       "<style scoped>\n",
       "    .dataframe tbody tr th:only-of-type {\n",
       "        vertical-align: middle;\n",
       "    }\n",
       "\n",
       "    .dataframe tbody tr th {\n",
       "        vertical-align: top;\n",
       "    }\n",
       "\n",
       "    .dataframe thead th {\n",
       "        text-align: right;\n",
       "    }\n",
       "</style>\n",
       "<table border=\"1\" class=\"dataframe\">\n",
       "  <thead>\n",
       "    <tr style=\"text-align: right;\">\n",
       "      <th></th>\n",
       "      <th>Number Of Films</th>\n",
       "    </tr>\n",
       "    <tr>\n",
       "      <th>Imdb_Rating</th>\n",
       "      <th></th>\n",
       "    </tr>\n",
       "  </thead>\n",
       "  <tbody>\n",
       "    <tr>\n",
       "      <th>6.1</th>\n",
       "      <td>62</td>\n",
       "    </tr>\n",
       "    <tr>\n",
       "      <th>5.7</th>\n",
       "      <td>58</td>\n",
       "    </tr>\n",
       "    <tr>\n",
       "      <th>6.4</th>\n",
       "      <td>58</td>\n",
       "    </tr>\n",
       "    <tr>\n",
       "      <th>6.3</th>\n",
       "      <td>56</td>\n",
       "    </tr>\n",
       "    <tr>\n",
       "      <th>6.2</th>\n",
       "      <td>56</td>\n",
       "    </tr>\n",
       "    <tr>\n",
       "      <th>6.6</th>\n",
       "      <td>51</td>\n",
       "    </tr>\n",
       "    <tr>\n",
       "      <th>6.7</th>\n",
       "      <td>51</td>\n",
       "    </tr>\n",
       "    <tr>\n",
       "      <th>6.0</th>\n",
       "      <td>49</td>\n",
       "    </tr>\n",
       "    <tr>\n",
       "      <th>5.9</th>\n",
       "      <td>48</td>\n",
       "    </tr>\n",
       "    <tr>\n",
       "      <th>6.5</th>\n",
       "      <td>46</td>\n",
       "    </tr>\n",
       "  </tbody>\n",
       "</table>\n",
       "</div>"
      ],
      "text/plain": [
       "             Number Of Films\n",
       "Imdb_Rating                 \n",
       "6.1                       62\n",
       "5.7                       58\n",
       "6.4                       58\n",
       "6.3                       56\n",
       "6.2                       56\n",
       "6.6                       51\n",
       "6.7                       51\n",
       "6.0                       49\n",
       "5.9                       48\n",
       "6.5                       46"
      ]
     },
     "execution_count": 264,
     "metadata": {},
     "output_type": "execute_result"
    }
   ],
   "source": [
    "imdb_rating_data = data['Imdb_Rating'].value_counts().reset_index().set_index(\"Imdb_Rating\").rename(columns={\"count\": \"Number Of Films\"} )\n",
    "imdb_rating_data.head(10)"
   ]
  },
  {
   "cell_type": "code",
   "execution_count": 274,
   "id": "d5dab576-12f5-4f72-8df3-ce17e9c85208",
   "metadata": {},
   "outputs": [
    {
     "data": {
      "text/plain": [
       "<Axes: xlabel='Imdb_Rating'>"
      ]
     },
     "execution_count": 274,
     "metadata": {},
     "output_type": "execute_result"
    },
    {
     "data": {
      "image/png": "[encoded data removed]",
      "text/plain": [
       "<Figure size 1200x500 with 1 Axes>"
      ]
     },
     "metadata": {},
     "output_type": "display_data"
    }
   ],
   "source": [
    "imdb_rating_data[\"Number Of Films\"] = imdb_rating_data[\"Number Of Films\"].astype(int)\n",
    "imdb_rating_data.sort_values(by = [\"Imdb_Rating\"]).plot(kind = \"bar\", figsize = (12,5))"
   ]
  },
  {
   "cell_type": "markdown",
   "id": "1e7ec26b-f66e-4ac6-bf9a-1d6e40afb032",
   "metadata": {},
   "source": [
    "On remarque que cette fonction tend vers une loi normale de moyenne $\\mu ~= 6.2$ et d'écart type $\\sigma^{2} ~= 0.9$."
   ]
  },
  {
   "cell_type": "code",
   "execution_count": 275,
   "id": "3b3bc9f2-fe1b-4ee5-8514-edbe859fd854",
   "metadata": {},
   "outputs": [
    {
     "data": {
      "text/plain": [
       "array([133,  93, 101, ...,  81,  92, 111])"
      ]
     },
     "execution_count": 275,
     "metadata": {},
     "output_type": "execute_result"
    }
   ],
   "source": [
    "data[\"Runtime\"].values"
   ]
  },
  {
   "cell_type": "markdown",
   "id": "0eca40c4-058c-40a4-9c2c-aab7106f93a8",
   "metadata": {},
   "source": [
    "#### Visualizing a heatmap of number of films in function of imdb_rating and runtime"
   ]
  },
  {
   "cell_type": "code",
   "execution_count": 293,
   "id": "ac872e47-4370-4144-8aed-6655f99c106c",
   "metadata": {},
   "outputs": [
    {
     "data": {
      "image/png": "[encoded data removed]",
      "text/plain": [
       "<Figure size 1300x600 with 2 Axes>"
      ]
     },
     "metadata": {},
     "output_type": "display_data"
    }
   ],
   "source": [
    "# Create a pivot table with 'Imdb_Rating' as rows, 'Runtime' as columns, and 'Title' as values\n",
    "heatmap_data = data.pivot_table(values='Title', index='Imdb_Rating', columns='Runtime', aggfunc='count', fill_value=0)\n",
    "\n",
    "# Create a heatmap\n",
    "plt.figure(figsize=(13, 6))\n",
    "plt.imshow(heatmap_data, cmap='plasma', aspect='auto')\n",
    "plt.colorbar(label='Number of Films')\n",
    "plt.xlabel('Runtime')\n",
    "plt.ylabel('IMDb Rating')\n",
    "plt.title('Heatmap of Number of Films')\n",
    "\n",
    "# Set x and y ticks to match the index and columns of the heatmap\n",
    "# Set x and y ticks to increase by 5 for better figure\n",
    "plt.xticks(range(0, len(heatmap_data.columns), 5), heatmap_data.columns[::5])\n",
    "plt.yticks(range(0, len(heatmap_data.index), 5), heatmap_data.index[::5])\n",
    "\n",
    "plt.show()"
   ]
  },
  {
   "cell_type": "code",
   "execution_count": null,
   "id": "b4ba88ca-d537-4a79-9972-c9ab0afff97a",
   "metadata": {},
   "outputs": [],
   "source": []
  },
  {
   "cell_type": "code",
   "execution_count": null,
   "id": "86f7f266-5f8a-471d-ac70-fb59c45195db",
   "metadata": {},
   "outputs": [],
   "source": []
  }
 ],
 "metadata": {
  "kernelspec": {
   "display_name": "Python 3 (ipykernel)",
   "language": "python",
   "name": "python3"
  },
  "language_info": {
   "codemirror_mode": {
    "name": "ipython",
    "version": 3
   },
   "file_extension": ".py",
   "mimetype": "text/x-python",
   "name": "python",
   "nbconvert_exporter": "python",
   "pygments_lexer": "ipython3",
   "version": "3.11.4"
  },
  "widgets": {
   "application/vnd.jupyter.widget-state+json": {
    "state": {},
    "version_major": 2,
    "version_minor": 0
   }
  }
 },
 "nbformat": 4,
 "nbformat_minor": 5
}
